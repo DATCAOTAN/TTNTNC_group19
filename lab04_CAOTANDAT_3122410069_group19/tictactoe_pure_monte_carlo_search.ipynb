{
 "cells": [
  {
   "cell_type": "markdown",
   "metadata": {},
   "source": [
    "# Adversarial Search: Solving Tic-Tac-Toe with Pure Monte Carlo Search"
   ]
  },
  {
   "cell_type": "markdown",
   "metadata": {},
   "source": [
    "## Introduction \n",
    "\n",
    "Multiplayer games can be implemented as:\n",
    "1. Nondeterministic actions: The opponent is seen as part of an environment with nondeterministic actions. Non-determinism is the result of the unknown opponent's moves. \n",
    "2. Optimal Decisions: Minimax search (search complete game tree) and alpha-beta pruning.\n",
    "3. Heuristic Alpha-Beta Tree Search: Cut off tree search and use heuristic to estimate state value. \n",
    "4. __Monte Carlo Search:__ Simulate playouts to estimate state value. \n",
    "\n",
    "Here we will implement search for Tic-Tac-Toe (see [rules](https://en.wikipedia.org/wiki/Tic-tac-toe)). The game is a __zero-sum game__: Win by x results in +1, win by o in -1 and a tie has a value of 0. Max plays x and tries to maximize the outcome while Min plays o and tries to minimize the outcome.   \n",
    "\n",
    "We will implement\n",
    "* Pure Monte Carlo search"
   ]
  },
  {
   "cell_type": "markdown",
   "metadata": {},
   "source": [
    "The code for the basic functions used for search are implemented in [tictactoe.py](tictactoe.py)."
   ]
  },
  {
   "cell_type": "code",
   "execution_count": 1,
   "metadata": {},
   "outputs": [
    {
     "data": {
      "text/plain": [
       "'%.3f'"
      ]
     },
     "execution_count": 1,
     "metadata": {},
     "output_type": "execute_result"
    }
   ],
   "source": [
    "from tictactoe import empty_board, actions, result, terminal, utility, other, show_board\n",
    "from tictactoe import random_player, play \n",
    "\n",
    "%precision 3"
   ]
  },
  {
   "cell_type": "markdown",
   "metadata": {},
   "source": [
    "# Pure Monte Carlo Search\n",
    "\n",
    "See AIMA page 161ff. \n",
    "\n",
    "We implement a extremely simplified version.\n",
    "\n",
    "For the current state: \n",
    "1. Simulate $N$ random playouts for each possible action and \n",
    "2. pick the action with the highest average utility.\n",
    "\n",
    "__Important note:__ we use here a random playout policy, which ends up creating just a randomized search that works fine for this toy problem. For real applications you need to extend the code with\n",
    "1. a good __playout policy__ (e.g., learned by self-play) and \n",
    "2. a __selection strategy__ (e.g., UCB1)."
   ]
  },
  {
   "cell_type": "markdown",
   "metadata": {},
   "source": [
    "## Simulate playouts"
   ]
  },
  {
   "cell_type": "code",
   "execution_count": 9,
   "metadata": {},
   "outputs": [
    {
     "name": "stdout",
     "output_type": "stream",
     "text": [
      "0\n",
      "1\n",
      "0\n",
      "-1\n",
      "1\n"
     ]
    }
   ],
   "source": [
    "import numpy as np\n",
    "\n",
    "def playout(state, action, player = 'x'):\n",
    "    \"\"\"Perform a random playout starting with the given action on the given board \n",
    "    and return the utility of the finished game.\"\"\"\n",
    "    state = result(state, player, action)\n",
    "    current_player = other(player)\n",
    "    \n",
    "    while(True):\n",
    "        # reached terminal state?\n",
    "        u = utility(state, player)\n",
    "        if u is not None: return(u)\n",
    "        \n",
    "        # we use a random playout policy\n",
    "        a = np.random.choice(actions(state))\n",
    "        state = result(state, current_player, a)\n",
    "        # print(state)\n",
    "        # show_board(state)\n",
    "        \n",
    "        # switch between players\n",
    "        current_player = other(current_player)\n",
    "\n",
    "\n",
    "# Playout for action 0 (top-left corner)\n",
    "board = empty_board()\n",
    "print(playout(board, 0))\n",
    "print(playout(board, 0))\n",
    "print(playout(board, 0))\n",
    "print(playout(board, 0))\n",
    "print(playout(board, 0))"
   ]
  },
  {
   "cell_type": "code",
   "execution_count": 3,
   "metadata": {
    "tags": []
   },
   "outputs": [
    {
     "name": "stdout",
     "output_type": "stream",
     "text": [
      "Playout results: [1, 1, -1, 0, 1, -1, 1, 1, 1, -1, 1, 1, 1, 1, 1, 0, -1, 1, 1, -1, 0, 1, -1, -1, 1, 0, -1, -1, 0, 1, 1, 1, -1, 1, -1, 1, 0, 1, -1, 1, 1, 1, -1, -1, 1, 1, -1, 1, 1, -1, 1, 1, 1, 0, 1, 1, 0, 1, 0, -1, 1, -1, 1, 0, -1, 1, -1, 0, 1, 1, 1, -1, 1, 1, 1, 1, 1, 1, 1, 1, 0, 1, 1, 1, 1, 1, -1, -1, 1, -1, 0, 0, -1, 1, 1, 1, -1, 1, 1, 1]\n",
      "mean utility: 0.34\n",
      "win probability: 0.6\n",
      "loss probability: 0.26\n",
      "draw probability: 0.14\n"
     ]
    }
   ],
   "source": [
    "def playouts(board, action, player = 'x', N = 100):\n",
    "    \"\"\"Perform N playouts following the given action for the given board.\"\"\"\n",
    "    return [ playout(board, action, player) for i in range(N) ]\n",
    "\n",
    "u = playouts(board, 0)\n",
    "print(\"Playout results:\", u)\n",
    "\n",
    "print(f\"mean utility: {np.mean(u)}\")\n",
    "\n",
    "p_win = sum(np.array(u) == +1)/len(u)\n",
    "p_loss = sum(np.array(u) == -1)/len(u)\n",
    "p_draw = sum(np.array(u) == 0)/len(u)\n",
    "print(f\"win probability: {p_win}\")\n",
    "print(f\"loss probability: {p_loss}\")\n",
    "print(f\"draw probability: {p_draw}\")"
   ]
  },
  {
   "cell_type": "markdown",
   "metadata": {},
   "source": [
    "__Note:__ This shows that the player who goes first has a significant advantage in __pure random play.__ Real players do not play randomly, a better playout policy would be good."
   ]
  },
  {
   "cell_type": "markdown",
   "metadata": {},
   "source": [
    "## Pure Monte Carlo Search"
   ]
  },
  {
   "cell_type": "code",
   "execution_count": 10,
   "metadata": {},
   "outputs": [
    {
     "data": {
      "text/plain": [
       "[' ', ' ', ' ', ' ', ' ', ' ', ' ', ' ', ' ']"
      ]
     },
     "metadata": {},
     "output_type": "display_data"
    },
    {
     "name": "stdout",
     "output_type": "stream",
     "text": [
      "Actions: [0, 1, 2, 3, 4, 5, 6, 7, 8] (100 total playouts = 11 playouts per action)\n"
     ]
    },
    {
     "data": {
      "text/plain": [
       "{0: 0.545,\n",
       " 1: 0.545,\n",
       " 2: 0.364,\n",
       " 3: -0.182,\n",
       " 4: 0.545,\n",
       " 5: 0.364,\n",
       " 6: -0.364,\n",
       " 7: 0.091,\n",
       " 8: 0.636}"
      ]
     },
     "metadata": {},
     "output_type": "display_data"
    },
    {
     "name": "stdout",
     "output_type": "stream",
     "text": [
      "8\n",
      "CPU times: total: 31.2 ms\n",
      "Wall time: 29.7 ms\n",
      "\n",
      "10000 playouts give a better utility estimate.\n",
      "Actions: [0, 1, 2, 3, 4, 5, 6, 7, 8] (10000 total playouts = 1111 playouts per action)\n"
     ]
    },
    {
     "data": {
      "text/plain": [
       "{0: 0.356,\n",
       " 1: 0.161,\n",
       " 2: 0.365,\n",
       " 3: 0.206,\n",
       " 4: 0.498,\n",
       " 5: 0.181,\n",
       " 6: 0.329,\n",
       " 7: 0.193,\n",
       " 8: 0.355}"
      ]
     },
     "metadata": {},
     "output_type": "display_data"
    },
    {
     "name": "stdout",
     "output_type": "stream",
     "text": [
      "4\n",
      "CPU times: total: 2.94 s\n",
      "Wall time: 3.03 s\n"
     ]
    }
   ],
   "source": [
    "import math\n",
    "\n",
    "DEBUG = 1\n",
    "\n",
    "\n",
    "def pmcs(board, N = 100, player = 'x'):\n",
    "    \"\"\"Pure Monte Carlo Search. Returns the action that has the largest average utility.\n",
    "    The N playouts are evenly divided between the possible actions.\"\"\"\n",
    "    global DEBUG\n",
    "    \n",
    "    acts = actions(board)\n",
    "    n = math.floor(N/len(acts))\n",
    "    if DEBUG >= 1: print(f\"Actions: {acts} ({N} total playouts = {n} playouts per action)\")\n",
    "    \n",
    "    ps = { i : np.mean(playouts(board, i, player, N = n)) for i in acts }\n",
    "    if DEBUG >= 1: display(ps)\n",
    "        \n",
    "    action = max(ps, key=ps.get)\n",
    "    return action\n",
    "\n",
    "board = empty_board()\n",
    "display(board)\n",
    "%time print(pmcs(board))\n",
    "\n",
    "print()\n",
    "print(\"10000 playouts give a better utility estimate.\")\n",
    "%time print(pmcs(board, N = 10000))"
   ]
  },
  {
   "cell_type": "markdown",
   "metadata": {},
   "source": [
    "Looks like the center and the corners are a lot better."
   ]
  },
  {
   "cell_type": "markdown",
   "metadata": {},
   "source": [
    "## Some Tests\n",
    "\n",
    "### x is about to win (play 8)\n"
   ]
  },
  {
   "cell_type": "code",
   "execution_count": 11,
   "metadata": {},
   "outputs": [
    {
     "name": "stdout",
     "output_type": "stream",
     "text": [
      "Board:\n"
     ]
    },
    {
     "data": {
      "image/png": "[encoded data removed]",
      "text/plain": [
       "<Figure size 192x192 with 1 Axes>"
      ]
     },
     "metadata": {},
     "output_type": "display_data"
    },
    {
     "name": "stdout",
     "output_type": "stream",
     "text": [
      "\n",
      "Actions: [2, 5, 6, 7, 8] (100 total playouts = 20 playouts per action)\n"
     ]
    },
    {
     "data": {
      "text/plain": [
       "{2: 0.700, 5: 0.500, 6: 0.900, 7: 0.700, 8: 1.000}"
      ]
     },
     "metadata": {},
     "output_type": "display_data"
    },
    {
     "data": {
      "text/plain": [
       "8"
      ]
     },
     "metadata": {},
     "output_type": "display_data"
    },
    {
     "name": "stdout",
     "output_type": "stream",
     "text": [
      "CPU times: user 12.9 ms, sys: 17.2 ms, total: 30.2 ms\n",
      "Wall time: 9.82 ms\n"
     ]
    }
   ],
   "source": [
    "board = empty_board() \n",
    "board[0] = 'x'\n",
    "board[1] = 'o'\n",
    "board[3] = 'o'\n",
    "board[4] = 'x'\n",
    "\n",
    "print(\"Board:\")\n",
    "show_board(board)\n",
    "\n",
    "print()\n",
    "%time display(pmcs(board))"
   ]
  },
  {
   "cell_type": "markdown",
   "metadata": {},
   "source": [
    "### o is about to win"
   ]
  },
  {
   "cell_type": "code",
   "execution_count": 12,
   "metadata": {},
   "outputs": [
    {
     "name": "stdout",
     "output_type": "stream",
     "text": [
      "Board:\n"
     ]
    },
    {
     "data": {
      "image/png": "[encoded data removed]",
      "text/plain": [
       "<Figure size 192x192 with 1 Axes>"
      ]
     },
     "metadata": {},
     "output_type": "display_data"
    },
    {
     "name": "stdout",
     "output_type": "stream",
     "text": [
      "\n",
      "Actions: [2, 5, 6, 7] (100 total playouts = 25 playouts per action)\n"
     ]
    },
    {
     "data": {
      "text/plain": [
       "{2: 0.120, 5: -0.760, 6: -0.040, 7: -0.680}"
      ]
     },
     "metadata": {},
     "output_type": "display_data"
    },
    {
     "data": {
      "text/plain": [
       "2"
      ]
     },
     "metadata": {},
     "output_type": "display_data"
    },
    {
     "name": "stdout",
     "output_type": "stream",
     "text": [
      "CPU times: user 17 ms, sys: 8.28 ms, total: 25.3 ms\n",
      "Wall time: 8.24 ms\n",
      "\n",
      "Actions: [2, 5, 6, 7] (1000 total playouts = 250 playouts per action)\n"
     ]
    },
    {
     "data": {
      "text/plain": [
       "{2: 0.000, 5: -0.648, 6: 0.056, 7: -0.632}"
      ]
     },
     "metadata": {},
     "output_type": "display_data"
    },
    {
     "data": {
      "text/plain": [
       "6"
      ]
     },
     "metadata": {},
     "output_type": "display_data"
    },
    {
     "name": "stdout",
     "output_type": "stream",
     "text": [
      "CPU times: user 133 ms, sys: 131 ms, total: 265 ms\n",
      "Wall time: 87 ms\n"
     ]
    }
   ],
   "source": [
    "board = empty_board() \n",
    "board[0] = 'o'\n",
    "board[1] = 'o'\n",
    "board[3] = 'o'\n",
    "board[4] = 'x'\n",
    "board[8] = 'x'\n",
    "\n",
    "print(\"Board:\")\n",
    "show_board(board)\n",
    "\n",
    "print()\n",
    "%time display(pmcs(board))\n",
    "\n",
    "print()\n",
    "%time display(pmcs(board, N = 1000))"
   ]
  },
  {
   "cell_type": "markdown",
   "metadata": {},
   "source": [
    "### x can draw if it chooses 7"
   ]
  },
  {
   "cell_type": "code",
   "execution_count": 13,
   "metadata": {},
   "outputs": [
    {
     "name": "stdout",
     "output_type": "stream",
     "text": [
      "Board:\n"
     ]
    },
    {
     "data": {
      "image/png": "[encoded data removed]",
      "text/plain": [
       "<Figure size 192x192 with 1 Axes>"
      ]
     },
     "metadata": {},
     "output_type": "display_data"
    },
    {
     "name": "stdout",
     "output_type": "stream",
     "text": [
      "\n",
      "Actions: [3, 5, 6, 7, 8] (100 total playouts = 20 playouts per action)\n"
     ]
    },
    {
     "data": {
      "text/plain": [
       "{3: -0.400, 5: 0.100, 6: -0.350, 7: 0.050, 8: -0.300}"
      ]
     },
     "metadata": {},
     "output_type": "display_data"
    },
    {
     "data": {
      "text/plain": [
       "5"
      ]
     },
     "metadata": {},
     "output_type": "display_data"
    },
    {
     "name": "stdout",
     "output_type": "stream",
     "text": [
      "CPU times: user 22.6 ms, sys: 16.8 ms, total: 39.4 ms\n",
      "Wall time: 12.8 ms\n"
     ]
    }
   ],
   "source": [
    "board = empty_board() \n",
    "board[0] = 'x'\n",
    "board[1] = 'o'\n",
    "board[2] = 'x'\n",
    "board[4] = 'o'\n",
    "\n",
    "print(\"Board:\")\n",
    "show_board(board)\n",
    "\n",
    "print()\n",
    "%time display(pmcs(board))"
   ]
  },
  {
   "cell_type": "markdown",
   "metadata": {},
   "source": [
    "### Empty board: Only a draw an be guaranteed"
   ]
  },
  {
   "cell_type": "code",
   "execution_count": 14,
   "metadata": {
    "tags": []
   },
   "outputs": [
    {
     "name": "stdout",
     "output_type": "stream",
     "text": [
      "Board:\n"
     ]
    },
    {
     "data": {
      "image/png": "[encoded data removed]",
      "text/plain": [
       "<Figure size 192x192 with 1 Axes>"
      ]
     },
     "metadata": {},
     "output_type": "display_data"
    },
    {
     "name": "stdout",
     "output_type": "stream",
     "text": [
      "\n",
      "Actions: [0, 1, 2, 3, 4, 5, 6, 7, 8] (5000 total playouts = 555 playouts per action)\n"
     ]
    },
    {
     "data": {
      "text/plain": [
       "{0: 0.378,\n",
       " 1: 0.164,\n",
       " 2: 0.373,\n",
       " 3: 0.276,\n",
       " 4: 0.517,\n",
       " 5: 0.277,\n",
       " 6: 0.332,\n",
       " 7: 0.196,\n",
       " 8: 0.305}"
      ]
     },
     "metadata": {},
     "output_type": "display_data"
    },
    {
     "data": {
      "text/plain": [
       "4"
      ]
     },
     "metadata": {},
     "output_type": "display_data"
    },
    {
     "name": "stdout",
     "output_type": "stream",
     "text": [
      "CPU times: user 938 ms, sys: 242 ms, total: 1.18 s\n",
      "Wall time: 860 ms\n"
     ]
    }
   ],
   "source": [
    "board = empty_board() \n",
    "\n",
    "print(\"Board:\")\n",
    "show_board(board)\n",
    "\n",
    "print()\n",
    "%time display(pmcs(board, N = 5000))"
   ]
  },
  {
   "cell_type": "markdown",
   "metadata": {},
   "source": [
    "### A bad situation"
   ]
  },
  {
   "cell_type": "code",
   "execution_count": 12,
   "metadata": {},
   "outputs": [
    {
     "name": "stdout",
     "output_type": "stream",
     "text": [
      "Board:\n"
     ]
    },
    {
     "data": {
      "image/png": "[encoded data removed]",
      "text/plain": [
       "<Figure size 192x192 with 1 Axes>"
      ]
     },
     "metadata": {},
     "output_type": "display_data"
    },
    {
     "name": "stdout",
     "output_type": "stream",
     "text": [
      "\n",
      "Actions: [1, 3, 4, 5, 6, 7] (1000 total playouts = 166 playouts per action)\n"
     ]
    },
    {
     "data": {
      "text/plain": [
       "{1: -0.699, 3: -0.596, 4: 0.133, 5: -0.687, 6: -0.277, 7: -0.645}"
      ]
     },
     "metadata": {},
     "output_type": "display_data"
    },
    {
     "data": {
      "image/png": "[encoded data removed]",
      "text/plain": [
       "<Figure size 192x192 with 1 Axes>"
      ]
     },
     "metadata": {},
     "output_type": "display_data"
    },
    {
     "name": "stdout",
     "output_type": "stream",
     "text": [
      "\n",
      "Actions: [1, 3, 5, 6, 7] (100 total playouts = 20 playouts per action)\n"
     ]
    },
    {
     "data": {
      "text/plain": [
       "{1: 0.500, 3: 0.900, 5: 0.600, 6: 1.000, 7: 1.000}"
      ]
     },
     "metadata": {},
     "output_type": "display_data"
    },
    {
     "data": {
      "text/plain": [
       "6"
      ]
     },
     "metadata": {},
     "output_type": "display_data"
    },
    {
     "name": "stdout",
     "output_type": "stream",
     "text": [
      "CPU times: total: 15.6 ms\n",
      "Wall time: 22 ms\n"
     ]
    }
   ],
   "source": [
    "board = empty_board() \n",
    "board[0] = 'o'\n",
    "board[2] = 'x'\n",
    "board[8] = 'o'\n",
    "\n",
    "print(\"Board:\")\n",
    "show_board(board)\n",
    "\n",
    "print()\n",
    "board[pmcs(board, 1000)] = 'x'\n",
    "show_board(board)\n",
    "print()\n",
    "%time display(pmcs(board))"
   ]
  },
  {
   "cell_type": "markdown",
   "metadata": {},
   "source": [
    "__Note:__ It looks like random player o is very unlikely to block x and take advantage of the trap by playing the bottom left corner!"
   ]
  },
  {
   "cell_type": "markdown",
   "metadata": {},
   "source": [
    "## Experiments"
   ]
  },
  {
   "cell_type": "markdown",
   "metadata": {},
   "source": [
    "### Pure Monte Carlo Search vs. Random"
   ]
  },
  {
   "cell_type": "code",
   "execution_count": 16,
   "metadata": {},
   "outputs": [
    {
     "name": "stdout",
     "output_type": "stream",
     "text": [
      "PMCS vs. random:\n",
      "Actions: [0, 1, 2, 3, 4, 5, 6, 7, 8] (10 total playouts = 1 playouts per action)\n"
     ]
    },
    {
     "data": {
      "text/plain": [
       "{0: 1.000,\n",
       " 1: -1.000,\n",
       " 2: 1.000,\n",
       " 3: 1.000,\n",
       " 4: 1.000,\n",
       " 5: 1.000,\n",
       " 6: 1.000,\n",
       " 7: -1.000,\n",
       " 8: 1.000}"
      ]
     },
     "metadata": {},
     "output_type": "display_data"
    },
    {
     "name": "stdout",
     "output_type": "stream",
     "text": [
      "Actions: [2, 3, 4, 5, 6, 7, 8] (10 total playouts = 1 playouts per action)\n"
     ]
    },
    {
     "data": {
      "text/plain": [
       "{2: 0.000, 3: 1.000, 4: 1.000, 5: 1.000, 6: 0.000, 7: 0.000, 8: 1.000}"
      ]
     },
     "metadata": {},
     "output_type": "display_data"
    },
    {
     "name": "stdout",
     "output_type": "stream",
     "text": [
      "Actions: [2, 4, 5, 6, 8] (10 total playouts = 2 playouts per action)\n"
     ]
    },
    {
     "data": {
      "text/plain": [
       "{2: 1.000, 4: 1.000, 5: 0.000, 6: 1.000, 8: 1.000}"
      ]
     },
     "metadata": {},
     "output_type": "display_data"
    },
    {
     "name": "stdout",
     "output_type": "stream",
     "text": [
      "Actions: [4, 5, 6] (10 total playouts = 3 playouts per action)\n"
     ]
    },
    {
     "data": {
      "text/plain": [
       "{4: 0.333, 5: -1.000, 6: 1.000}"
      ]
     },
     "metadata": {},
     "output_type": "display_data"
    },
    {
     "data": {
      "text/plain": [
       "{'x': 1, 'o': 0, 'd': 0}"
      ]
     },
     "metadata": {},
     "output_type": "display_data"
    }
   ],
   "source": [
    "def pmcs10_player(board, player = 'x'):\n",
    "    action = pmcs(board, N = 10, player = player)\n",
    "    return action\n",
    "\n",
    "def pmcs100_player(board, player = 'x'):\n",
    "    action = pmcs(board, N = 100, player = player)\n",
    "    return action\n",
    "\n",
    "def pmcs1000_player(board, player = 'x'):\n",
    "    action = pmcs(board, N = 1000, player = player)\n",
    "    return action\n",
    "\n",
    "\n",
    "DEBUG = 1\n",
    "print(\"PMCS vs. random:\")\n",
    "display(play(pmcs10_player, random_player, N = 1))"
   ]
  },
  {
   "cell_type": "code",
   "execution_count": 17,
   "metadata": {},
   "outputs": [
    {
     "name": "stdout",
     "output_type": "stream",
     "text": [
      "PMCS (10) vs. random:\n"
     ]
    },
    {
     "data": {
      "text/plain": [
       "{'x': 91, 'o': 5, 'd': 4}"
      ]
     },
     "metadata": {},
     "output_type": "display_data"
    },
    {
     "name": "stdout",
     "output_type": "stream",
     "text": [
      "CPU times: user 567 ms, sys: 150 ms, total: 717 ms\n",
      "Wall time: 511 ms\n",
      "\n",
      "random vs. PMCS (10)\n"
     ]
    },
    {
     "data": {
      "text/plain": [
       "{'x': 20, 'o': 68, 'd': 12}"
      ]
     },
     "metadata": {},
     "output_type": "display_data"
    },
    {
     "name": "stdout",
     "output_type": "stream",
     "text": [
      "CPU times: user 287 ms, sys: 2.22 ms, total: 289 ms\n",
      "Wall time: 272 ms\n"
     ]
    }
   ],
   "source": [
    "DEBUG = 0\n",
    "print(\"PMCS (10) vs. random:\")\n",
    "%time display(play(pmcs10_player, random_player))\n",
    "\n",
    "print()\n",
    "print(\"random vs. PMCS (10)\")\n",
    "%time display(play(random_player, pmcs10_player))"
   ]
  },
  {
   "cell_type": "code",
   "execution_count": 18,
   "metadata": {},
   "outputs": [
    {
     "name": "stdout",
     "output_type": "stream",
     "text": [
      "PMCS (100) vs. random:\n"
     ]
    },
    {
     "data": {
      "text/plain": [
       "{'x': 98, 'o': 0, 'd': 2}"
      ]
     },
     "metadata": {},
     "output_type": "display_data"
    },
    {
     "name": "stdout",
     "output_type": "stream",
     "text": [
      "CPU times: user 6.03 s, sys: 228 ms, total: 6.26 s\n",
      "Wall time: 6 s\n",
      "\n",
      "random vs. PMCS (100)\n"
     ]
    },
    {
     "data": {
      "text/plain": [
       "{'x': 7, 'o': 82, 'd': 11}"
      ]
     },
     "metadata": {},
     "output_type": "display_data"
    },
    {
     "name": "stdout",
     "output_type": "stream",
     "text": [
      "CPU times: user 4.29 s, sys: 50.7 ms, total: 4.34 s\n",
      "Wall time: 4.25 s\n"
     ]
    }
   ],
   "source": [
    "DEBUG = 0\n",
    "print(\"PMCS (100) vs. random:\")\n",
    "%time display(play(pmcs100_player, random_player))\n",
    "\n",
    "print()\n",
    "print(\"random vs. PMCS (100)\")\n",
    "%time display(play(random_player, pmcs100_player))"
   ]
  },
  {
   "cell_type": "code",
   "execution_count": 19,
   "metadata": {
    "tags": []
   },
   "outputs": [
    {
     "name": "stdout",
     "output_type": "stream",
     "text": [
      "PMCS (100) vs. PMCS (10):\n"
     ]
    },
    {
     "data": {
      "text/plain": [
       "{'x': 88, 'o': 4, 'd': 8}"
      ]
     },
     "metadata": {},
     "output_type": "display_data"
    },
    {
     "name": "stdout",
     "output_type": "stream",
     "text": [
      "CPU times: user 6.12 s, sys: 264 ms, total: 6.39 s\n",
      "Wall time: 6.07 s\n",
      "\n",
      "PMCS (10) vs. PMCS (100)\n"
     ]
    },
    {
     "data": {
      "text/plain": [
       "{'x': 29, 'o': 54, 'd': 17}"
      ]
     },
     "metadata": {},
     "output_type": "display_data"
    },
    {
     "name": "stdout",
     "output_type": "stream",
     "text": [
      "CPU times: user 5.04 s, sys: 135 ms, total: 5.18 s\n",
      "Wall time: 5.01 s\n"
     ]
    }
   ],
   "source": [
    "DEBUG = 0\n",
    "print(\"PMCS (100) vs. PMCS (10):\")\n",
    "%time display(play(pmcs100_player, pmcs10_player))\n",
    "\n",
    "print()\n",
    "print(\"PMCS (10) vs. PMCS (100)\")\n",
    "%time display(play(pmcs10_player, pmcs100_player))"
   ]
  },
  {
   "cell_type": "markdown",
   "metadata": {},
   "source": [
    "**Note 1:** You can try `pmcs_1000`, but it will take a few minutes to run 100 games.\n",
    "\n",
    "**Note 2:** The important advantage about Monte Carlo Search is that we do not need to define a heuristic evaluation function to decide what boards are good."
   ]
  }
 ],
 "metadata": {
  "kernelspec": {
   "display_name": ".venv",
   "language": "python",
   "name": "python3"
  },
  "language_info": {
   "codemirror_mode": {
    "name": "ipython",
    "version": 3
   },
   "file_extension": ".py",
   "mimetype": "text/x-python",
   "name": "python",
   "nbconvert_exporter": "python",
   "pygments_lexer": "ipython3",
   "version": "3.12.6"
  }
 },
 "nbformat": 4,
 "nbformat_minor": 4
}
